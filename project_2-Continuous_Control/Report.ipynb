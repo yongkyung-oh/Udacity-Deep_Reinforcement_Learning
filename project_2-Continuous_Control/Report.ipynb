{
 "cells": [
  {
   "cell_type": "markdown",
   "metadata": {},
   "source": [
    "# Continuous Control\n",
    "\n",
    "---\n",
    "\n",
    "You are welcome to use this coding environment to train your agent for the project.  Follow the instructions below to get started!\n",
    "\n",
    "### 1. Start the Environment\n",
    "\n",
    "Run the next code cell to install a few packages.  This line will take a few minutes to run!"
   ]
  },
  {
   "cell_type": "code",
   "execution_count": 1,
   "metadata": {
    "scrolled": true
   },
   "outputs": [],
   "source": [
    "#!pip -q install ./python \n",
    "#!pip install -r requirements.txt"
   ]
  },
  {
   "cell_type": "markdown",
   "metadata": {},
   "source": [
    "The environments corresponding to both versions of the environment are already saved in the Workspace and can be accessed at the file paths provided below.  \n",
    "\n",
    "Please select one of the two options below for loading the environment."
   ]
  },
  {
   "cell_type": "code",
   "execution_count": 2,
   "metadata": {},
   "outputs": [
    {
     "name": "stderr",
     "output_type": "stream",
     "text": [
      "INFO:unityagents:\n",
      "'Academy' started successfully!\n",
      "Unity Academy name: Academy\n",
      "        Number of Brains: 1\n",
      "        Number of External Brains : 1\n",
      "        Lesson number : 0\n",
      "        Reset Parameters :\n",
      "\t\tgoal_size -> 5.0\n",
      "\t\tgoal_speed -> 1.0\n",
      "Unity brain name: ReacherBrain\n",
      "        Number of Visual Observations (per agent): 0\n",
      "        Vector Observation space type: continuous\n",
      "        Vector Observation space size (per agent): 33\n",
      "        Number of stacked Vector Observation: 1\n",
      "        Vector Action space type: continuous\n",
      "        Vector Action space size (per agent): 4\n",
      "        Vector Action descriptions: , , , \n"
     ]
    }
   ],
   "source": [
    "from unityagents import UnityEnvironment\n",
    "import numpy as np \n",
    "\n",
    "# select this option to load version 1 (with a single agent) of the environment\n",
    "env = UnityEnvironment(file_name='Reacher_Linux_NoVis/Reacher.x86_64')\n",
    "\n",
    "# select this option to load version 2 (with 20 agents) of the environment\n",
    "#env = UnityEnvironment(file_name='Reacher_Linux_NoVis/Reacher.x86_64')"
   ]
  },
  {
   "cell_type": "markdown",
   "metadata": {},
   "source": [
    "Environments contain **_brains_** which are responsible for deciding the actions of their associated agents. Here we check for the first brain available, and set it as the default brain we will be controlling from Python."
   ]
  },
  {
   "cell_type": "code",
   "execution_count": 3,
   "metadata": {},
   "outputs": [],
   "source": [
    "# get the default brain\n",
    "brain_name = env.brain_names[0]\n",
    "brain = env.brains[brain_name]"
   ]
  },
  {
   "cell_type": "markdown",
   "metadata": {},
   "source": [
    "### 2. Examine the State and Action Spaces\n",
    "\n",
    "Run the code cell below to print some information about the environment."
   ]
  },
  {
   "cell_type": "code",
   "execution_count": 4,
   "metadata": {},
   "outputs": [
    {
     "name": "stdout",
     "output_type": "stream",
     "text": [
      "Number of agents: 1\n",
      "Size of each action: 4\n",
      "There are 1 agents. Each observes a state with length: 33\n",
      "The state for the first agent looks like: [ 0.00000000e+00 -4.00000000e+00  0.00000000e+00  1.00000000e+00\n",
      " -0.00000000e+00 -0.00000000e+00 -4.37113883e-08  0.00000000e+00\n",
      "  0.00000000e+00  0.00000000e+00  0.00000000e+00  0.00000000e+00\n",
      "  0.00000000e+00  0.00000000e+00 -1.00000000e+01  0.00000000e+00\n",
      "  1.00000000e+00 -0.00000000e+00 -0.00000000e+00 -4.37113883e-08\n",
      "  0.00000000e+00  0.00000000e+00  0.00000000e+00  0.00000000e+00\n",
      "  0.00000000e+00  0.00000000e+00  5.75471878e+00 -1.00000000e+00\n",
      "  5.55726671e+00  0.00000000e+00  1.00000000e+00  0.00000000e+00\n",
      " -1.68164849e-01]\n"
     ]
    }
   ],
   "source": [
    "# reset the environment\n",
    "env_info = env.reset(train_mode=True)[brain_name]\n",
    "\n",
    "# number of agents\n",
    "num_agents = len(env_info.agents)\n",
    "print('Number of agents:', num_agents)\n",
    "\n",
    "# size of each action\n",
    "action_size = brain.vector_action_space_size\n",
    "print('Size of each action:', action_size)\n",
    "\n",
    "# examine the state space \n",
    "states = env_info.vector_observations\n",
    "state_size = states.shape[1]\n",
    "print('There are {} agents. Each observes a state with length: {}'.format(states.shape[0], state_size))\n",
    "print('The state for the first agent looks like:', states[0])"
   ]
  },
  {
   "cell_type": "markdown",
   "metadata": {},
   "source": [
    "### 3. Take Random Actions in the Environment\n",
    "\n",
    "In the next code cell, you will learn how to use the Python API to control the agent and receive feedback from the environment.\n",
    "\n",
    "Note that **in this coding environment, you will not be able to watch the agents while they are training**, and you should set `train_mode=True` to restart the environment."
   ]
  },
  {
   "cell_type": "code",
   "execution_count": 5,
   "metadata": {},
   "outputs": [
    {
     "name": "stdout",
     "output_type": "stream",
     "text": [
      "Total score (averaged over agents) this episode: 0.2899999935179949\n",
      "CPU times: user 776 ms, sys: 204 ms, total: 980 ms\n",
      "Wall time: 2.65 s\n"
     ]
    }
   ],
   "source": [
    "%%time\n",
    "env_info = env.reset(train_mode=True)[brain_name]     # reset the environment    \n",
    "states = env_info.vector_observations                  # get the current state (for each agent)\n",
    "scores = np.zeros(num_agents)                          # initialize the score (for each agent)\n",
    "while True:\n",
    "    actions = np.random.randn(num_agents, action_size) # select an action (for each agent)\n",
    "    actions = np.clip(actions, -1, 1)                  # all actions between -1 and 1\n",
    "    env_info = env.step(actions)[brain_name]           # send all actions to tne environment\n",
    "    next_states = env_info.vector_observations         # get next state (for each agent)\n",
    "    rewards = env_info.rewards                         # get reward (for each agent)\n",
    "    dones = env_info.local_done                        # see if episode finished\n",
    "    scores += env_info.rewards                         # update the score (for each agent)\n",
    "    states = next_states                               # roll over states to next time step\n",
    "    if np.any(dones):                                  # exit loop if episode finished\n",
    "        break\n",
    "print('Total score (averaged over agents) this episode: {}'.format(np.mean(scores)))"
   ]
  },
  {
   "cell_type": "markdown",
   "metadata": {},
   "source": [
    "When finished, you can close the environment."
   ]
  },
  {
   "cell_type": "code",
   "execution_count": 6,
   "metadata": {},
   "outputs": [],
   "source": [
    "#env.close()\n",
    "env_info = env.reset(train_mode=True)[brain_name]     # reset the environment    "
   ]
  },
  {
   "cell_type": "markdown",
   "metadata": {},
   "source": [
    "### 4. It's Your Turn!\n",
    "\n",
    "Now it's your turn to train your own agent to solve the environment!  A few **important notes**:\n",
    "- When training the environment, set `train_mode=True`, so that the line for resetting the environment looks like the following:\n",
    "```python\n",
    "env_info = env.reset(train_mode=True)[brain_name]\n",
    "```\n",
    "- To structure your work, you're welcome to work directly in this Jupyter notebook, or you might like to start over with a new file!  You can see the list of files in the workspace by clicking on **_Jupyter_** in the top left corner of the notebook.\n",
    "- In this coding environment, you will not be able to watch the agents while they are training.  However, **_after training the agents_**, you can download the saved model weights to watch the agents on your own machine! "
   ]
  },
  {
   "cell_type": "code",
   "execution_count": 7,
   "metadata": {},
   "outputs": [],
   "source": [
    "import os\n",
    "import time\n",
    "import numpy as np\n",
    "import pandas as pd \n",
    "import matplotlib.pyplot as plt\n",
    "%matplotlib inline\n",
    "\n",
    "import torch\n",
    "import torch.nn as nn\n",
    "import torch.nn.functional as F\n",
    "import torch.optim as optim\n",
    "\n",
    "from collections import deque\n",
    "from ddpg_agent import Agent"
   ]
  },
  {
   "cell_type": "code",
   "execution_count": 8,
   "metadata": {},
   "outputs": [],
   "source": [
    "seed = 0"
   ]
  },
  {
   "cell_type": "code",
   "execution_count": 9,
   "metadata": {},
   "outputs": [
    {
     "name": "stdout",
     "output_type": "stream",
     "text": [
      "Number of agents: 1\n",
      "Size of each action: 4\n",
      "There are 1 agents. Each observes a state with length: 33\n",
      "The state for the first agent looks like: [ 0.00000000e+00 -4.00000000e+00  0.00000000e+00  1.00000000e+00\n",
      " -0.00000000e+00 -0.00000000e+00 -4.37113883e-08  0.00000000e+00\n",
      "  0.00000000e+00  0.00000000e+00  0.00000000e+00  0.00000000e+00\n",
      "  0.00000000e+00  0.00000000e+00 -1.00000000e+01  0.00000000e+00\n",
      "  1.00000000e+00 -0.00000000e+00 -0.00000000e+00 -4.37113883e-08\n",
      "  0.00000000e+00  0.00000000e+00  0.00000000e+00  0.00000000e+00\n",
      "  0.00000000e+00  0.00000000e+00 -4.23935318e+00 -1.00000000e+00\n",
      "  6.78438473e+00  0.00000000e+00  1.00000000e+00  0.00000000e+00\n",
      "  7.30195284e-01]\n"
     ]
    }
   ],
   "source": [
    "# reset the environment\n",
    "env_info = env.reset(train_mode=True)[brain_name]\n",
    "\n",
    "# number of agents\n",
    "num_agents = len(env_info.agents)\n",
    "print('Number of agents:', num_agents)\n",
    "\n",
    "# size of each action\n",
    "action_size = brain.vector_action_space_size\n",
    "print('Size of each action:', action_size)\n",
    "\n",
    "# examine the state space \n",
    "states = env_info.vector_observations\n",
    "state_size = states.shape[1]\n",
    "print('There are {} agents. Each observes a state with length: {}'.format(states.shape[0], state_size))\n",
    "print('The state for the first agent looks like:', states[0])"
   ]
  },
  {
   "cell_type": "code",
   "execution_count": 10,
   "metadata": {},
   "outputs": [],
   "source": [
    "#Create Agent\n",
    "#agent = Agent(state_size=state_size, action_size=action_size, n_agents=num_agents, seed=seed)\n",
    "agent = Agent(state_size=state_size, action_size=action_size, random_seed=seed)"
   ]
  },
  {
   "cell_type": "code",
   "execution_count": 11,
   "metadata": {},
   "outputs": [],
   "source": [
    "def ddpg(n_episodes=2500, max_t=1200, window_size=100, print_interval=10):\n",
    "    mean_scores = [] # list of mean scores from each episode\n",
    "    moving_avgs = [] # list of moving averages\n",
    "    best_score = -np.inf\n",
    "    scores_window = deque(maxlen=window_size) # mean score from last 100 episodes\n",
    "    \n",
    "    for i_episode in range(1, n_episodes + 1):\n",
    "        env_info = env.reset(train_mode=True)[brain_name] # reset environment\n",
    "        states = env_info.vector_observations # get current state for each observations\n",
    "        scores = np.zeros(num_agents) # initialize score for each agent\n",
    "        agent.reset()\n",
    "        start_time = time.time()\n",
    "        for t in range(max_t):\n",
    "            actions = agent.act(states, add_noise=True) # select an action\n",
    "            env_info = env.step(actions)[brain_name]  # send all actions to tne environment\n",
    "            next_states = env_info.vector_observations # get next state (for each agent)\n",
    "            rewards = env_info.rewards # get reward (for each agent)\n",
    "            dones = env_info.local_done # see if episode finished\n",
    "            # perform learning step\n",
    "            for state, action, reward, next_state, done in zip(states, actions, rewards, next_states, dones):\n",
    "                agent.step(state, action, reward, next_state, done, t)\n",
    "            states = next_states\n",
    "            scores += rewards\n",
    "            if np.any(dones):\n",
    "                break\n",
    "        duration = time.time() - start_time\n",
    "        mean_scores.append(np.mean(scores)) # save mean score for each episode\n",
    "        scores_window.append(mean_scores[-1]) # save mean score to window\n",
    "        moving_avgs.append(np.mean(scores_window)) # save moving average\n",
    "\n",
    "        print(\"\\rEpisode {}\\tAverage Score: {:.2f}\".format(i_episode, np.mean(scores_window)), end =\"\")\n",
    "        if i_episode % print_interval == 0:\n",
    "#            print(\"\\rEpisode {} ({}s)\\tMean: {:.1f}\\tMoving Avg: {:.1f}\"\\\n",
    "#                  .format(i_episode, round(duration), mean_scores[-1], moving_avgs[-1]))\n",
    "            print(\"\\rEpisode {} \\tMean: {:.1f} \\tMoving Avg: {:.1f}\"\\\n",
    "                  .format(i_episode, mean_scores[-1], moving_avgs[-1]))\n",
    "        if moving_avgs[-1] >= 30.0:\n",
    "            print(\"\\nEnvironment solved in {:d} episodes.\\tAverage score: {:.2f}\"\\\n",
    "                 .format(i_episode, moving_avgs[-1]))\n",
    "            torch.save(agent.actor_local.state_dict(), 'actor.pth')\n",
    "            torch.save(agent.critic_local.state_dict(), 'critic.pth')\n",
    "            break\n",
    "            \n",
    "    return mean_scores, moving_avgs"
   ]
  },
  {
   "cell_type": "code",
   "execution_count": 12,
   "metadata": {},
   "outputs": [
    {
     "name": "stdout",
     "output_type": "stream",
     "text": [
      "Episode 10 \tMean: 1.5 \tMoving Avg: 0.8\n",
      "Episode 20 \tMean: 1.1 \tMoving Avg: 1.0\n",
      "Episode 30 \tMean: 0.0 \tMoving Avg: 1.1\n",
      "Episode 40 \tMean: 2.4 \tMoving Avg: 1.2\n",
      "Episode 50 \tMean: 2.6 \tMoving Avg: 1.3\n",
      "Episode 60 \tMean: 3.5 \tMoving Avg: 1.4\n",
      "Episode 70 \tMean: 3.1 \tMoving Avg: 1.5\n",
      "Episode 80 \tMean: 3.8 \tMoving Avg: 1.7\n",
      "Episode 90 \tMean: 2.1 \tMoving Avg: 1.8\n",
      "Episode 100 \tMean: 2.4 \tMoving Avg: 1.7\n",
      "Episode 110 \tMean: 2.7 \tMoving Avg: 1.9\n",
      "Episode 120 \tMean: 4.2 \tMoving Avg: 2.0\n",
      "Episode 130 \tMean: 1.0 \tMoving Avg: 2.1\n",
      "Episode 140 \tMean: 1.6 \tMoving Avg: 2.2\n",
      "Episode 150 \tMean: 4.7 \tMoving Avg: 2.3\n",
      "Episode 160 \tMean: 2.7 \tMoving Avg: 2.5\n",
      "Episode 170 \tMean: 3.2 \tMoving Avg: 2.6\n",
      "Episode 180 \tMean: 3.4 \tMoving Avg: 2.5\n",
      "Episode 190 \tMean: 2.4 \tMoving Avg: 2.7\n",
      "Episode 200 \tMean: 1.9 \tMoving Avg: 2.9\n",
      "Episode 210 \tMean: 2.8 \tMoving Avg: 3.0\n",
      "Episode 220 \tMean: 5.2 \tMoving Avg: 3.0\n",
      "Episode 230 \tMean: 3.6 \tMoving Avg: 3.1\n",
      "Episode 240 \tMean: 1.9 \tMoving Avg: 3.1\n",
      "Episode 250 \tMean: 3.3 \tMoving Avg: 3.2\n",
      "Episode 260 \tMean: 1.3 \tMoving Avg: 3.2\n",
      "Episode 270 \tMean: 4.0 \tMoving Avg: 3.1\n",
      "Episode 280 \tMean: 3.0 \tMoving Avg: 3.4\n",
      "Episode 290 \tMean: 1.4 \tMoving Avg: 3.4\n",
      "Episode 300 \tMean: 3.1 \tMoving Avg: 3.6\n",
      "Episode 310 \tMean: 3.3 \tMoving Avg: 3.7\n",
      "Episode 320 \tMean: 4.8 \tMoving Avg: 3.9\n",
      "Episode 330 \tMean: 4.4 \tMoving Avg: 4.1\n",
      "Episode 340 \tMean: 4.3 \tMoving Avg: 4.3\n",
      "Episode 350 \tMean: 6.1 \tMoving Avg: 4.3\n",
      "Episode 360 \tMean: 5.3 \tMoving Avg: 4.5\n",
      "Episode 370 \tMean: 2.3 \tMoving Avg: 4.8\n",
      "Episode 380 \tMean: 6.8 \tMoving Avg: 5.0\n",
      "Episode 390 \tMean: 5.6 \tMoving Avg: 5.0\n",
      "Episode 400 \tMean: 4.7 \tMoving Avg: 5.2\n",
      "Episode 410 \tMean: 6.3 \tMoving Avg: 5.5\n",
      "Episode 420 \tMean: 6.4 \tMoving Avg: 6.0\n",
      "Episode 430 \tMean: 6.1 \tMoving Avg: 6.2\n",
      "Episode 440 \tMean: 5.2 \tMoving Avg: 6.4\n",
      "Episode 450 \tMean: 5.2 \tMoving Avg: 6.6\n",
      "Episode 460 \tMean: 8.0 \tMoving Avg: 6.9\n",
      "Episode 470 \tMean: 9.7 \tMoving Avg: 7.2\n",
      "Episode 480 \tMean: 7.3 \tMoving Avg: 7.4\n",
      "Episode 490 \tMean: 11.4 \tMoving Avg: 7.7\n",
      "Episode 500 \tMean: 8.2 \tMoving Avg: 7.8\n",
      "Episode 510 \tMean: 7.1 \tMoving Avg: 7.9\n",
      "Episode 520 \tMean: 9.6 \tMoving Avg: 7.9\n",
      "Episode 530 \tMean: 9.8 \tMoving Avg: 8.3\n",
      "Episode 540 \tMean: 11.2 \tMoving Avg: 8.6\n",
      "Episode 550 \tMean: 8.6 \tMoving Avg: 9.0\n",
      "Episode 560 \tMean: 8.4 \tMoving Avg: 9.1\n",
      "Episode 570 \tMean: 10.0 \tMoving Avg: 9.1\n",
      "Episode 580 \tMean: 9.0 \tMoving Avg: 9.1\n",
      "Episode 590 \tMean: 18.9 \tMoving Avg: 9.3\n",
      "Episode 600 \tMean: 6.2 \tMoving Avg: 9.5\n",
      "Episode 610 \tMean: 8.7 \tMoving Avg: 9.4\n",
      "Episode 620 \tMean: 5.3 \tMoving Avg: 9.2\n",
      "Episode 630 \tMean: 8.6 \tMoving Avg: 9.0\n",
      "Episode 640 \tMean: 9.6 \tMoving Avg: 8.9\n",
      "Episode 650 \tMean: 13.9 \tMoving Avg: 8.8\n",
      "Episode 660 \tMean: 9.8 \tMoving Avg: 8.8\n",
      "Episode 670 \tMean: 7.4 \tMoving Avg: 9.1\n",
      "Episode 680 \tMean: 9.1 \tMoving Avg: 9.3\n",
      "Episode 690 \tMean: 9.4 \tMoving Avg: 9.3\n",
      "Episode 700 \tMean: 8.6 \tMoving Avg: 9.6\n",
      "Episode 710 \tMean: 5.7 \tMoving Avg: 9.7\n",
      "Episode 720 \tMean: 8.8 \tMoving Avg: 9.9\n",
      "Episode 730 \tMean: 9.3 \tMoving Avg: 10.2\n",
      "Episode 740 \tMean: 14.6 \tMoving Avg: 10.6\n",
      "Episode 750 \tMean: 7.3 \tMoving Avg: 10.9\n",
      "Episode 760 \tMean: 8.5 \tMoving Avg: 11.2\n",
      "Episode 770 \tMean: 14.8 \tMoving Avg: 11.3\n",
      "Episode 780 \tMean: 6.8 \tMoving Avg: 11.4\n",
      "Episode 790 \tMean: 8.8 \tMoving Avg: 11.8\n",
      "Episode 800 \tMean: 10.9 \tMoving Avg: 12.0\n",
      "Episode 810 \tMean: 13.5 \tMoving Avg: 12.3\n",
      "Episode 820 \tMean: 11.4 \tMoving Avg: 12.6\n",
      "Episode 830 \tMean: 9.6 \tMoving Avg: 12.8\n",
      "Episode 840 \tMean: 7.9 \tMoving Avg: 12.8\n",
      "Episode 850 \tMean: 16.7 \tMoving Avg: 12.8\n",
      "Episode 860 \tMean: 11.3 \tMoving Avg: 12.9\n",
      "Episode 870 \tMean: 19.1 \tMoving Avg: 13.1\n",
      "Episode 880 \tMean: 16.1 \tMoving Avg: 13.2\n",
      "Episode 890 \tMean: 11.3 \tMoving Avg: 13.3\n",
      "Episode 900 \tMean: 15.7 \tMoving Avg: 13.3\n",
      "Episode 910 \tMean: 12.7 \tMoving Avg: 13.2\n",
      "Episode 920 \tMean: 10.9 \tMoving Avg: 13.2\n",
      "Episode 930 \tMean: 18.2 \tMoving Avg: 13.4\n",
      "Episode 940 \tMean: 18.1 \tMoving Avg: 13.7\n",
      "Episode 950 \tMean: 19.1 \tMoving Avg: 13.7\n",
      "Episode 960 \tMean: 15.3 \tMoving Avg: 13.8\n",
      "Episode 970 \tMean: 12.1 \tMoving Avg: 13.8\n",
      "Episode 980 \tMean: 14.4 \tMoving Avg: 13.9\n",
      "Episode 990 \tMean: 13.1 \tMoving Avg: 13.6\n",
      "Episode 1000 \tMean: 18.2 \tMoving Avg: 14.4\n",
      "Episode 1010 \tMean: 14.9 \tMoving Avg: 14.9\n",
      "Episode 1020 \tMean: 16.6 \tMoving Avg: 15.4\n",
      "Episode 1030 \tMean: 14.6 \tMoving Avg: 15.3\n",
      "Episode 1040 \tMean: 8.8 \tMoving Avg: 15.5\n",
      "Episode 1050 \tMean: 16.5 \tMoving Avg: 16.0\n",
      "Episode 1060 \tMean: 15.9 \tMoving Avg: 16.2\n",
      "Episode 1070 \tMean: 16.5 \tMoving Avg: 16.6\n",
      "Episode 1080 \tMean: 21.2 \tMoving Avg: 17.0\n",
      "Episode 1090 \tMean: 18.1 \tMoving Avg: 17.5\n",
      "Episode 1100 \tMean: 20.6 \tMoving Avg: 17.2\n",
      "Episode 1110 \tMean: 10.0 \tMoving Avg: 17.3\n",
      "Episode 1120 \tMean: 20.2 \tMoving Avg: 17.3\n",
      "Episode 1130 \tMean: 17.6 \tMoving Avg: 17.8\n",
      "Episode 1140 \tMean: 19.2 \tMoving Avg: 17.6\n",
      "Episode 1150 \tMean: 19.6 \tMoving Avg: 17.5\n",
      "Episode 1160 \tMean: 17.9 \tMoving Avg: 17.6\n",
      "Episode 1170 \tMean: 10.3 \tMoving Avg: 17.7\n",
      "Episode 1180 \tMean: 13.6 \tMoving Avg: 17.7\n",
      "Episode 1190 \tMean: 14.7 \tMoving Avg: 17.5\n",
      "Episode 1200 \tMean: 12.9 \tMoving Avg: 17.5\n",
      "Episode 1210 \tMean: 12.2 \tMoving Avg: 17.8\n",
      "Episode 1220 \tMean: 11.6 \tMoving Avg: 18.0\n",
      "Episode 1230 \tMean: 9.6 \tMoving Avg: 17.9\n",
      "Episode 1240 \tMean: 8.6 \tMoving Avg: 18.0\n",
      "Episode 1250 \tMean: 20.4 \tMoving Avg: 17.9\n",
      "Episode 1260 \tMean: 17.5 \tMoving Avg: 17.9\n",
      "Episode 1270 \tMean: 13.8 \tMoving Avg: 18.1\n",
      "Episode 1280 \tMean: 20.3 \tMoving Avg: 18.2\n",
      "Episode 1290 \tMean: 21.1 \tMoving Avg: 18.3\n",
      "Episode 1300 \tMean: 23.4 \tMoving Avg: 18.4\n",
      "Episode 1310 \tMean: 28.2 \tMoving Avg: 18.6\n",
      "Episode 1320 \tMean: 21.9 \tMoving Avg: 18.5\n",
      "Episode 1330 \tMean: 17.2 \tMoving Avg: 18.7\n",
      "Episode 1340 \tMean: 17.8 \tMoving Avg: 19.1\n",
      "Episode 1350 \tMean: 21.1 \tMoving Avg: 19.4\n",
      "Episode 1360 \tMean: 11.5 \tMoving Avg: 19.4\n",
      "Episode 1370 \tMean: 18.9 \tMoving Avg: 19.6\n",
      "Episode 1380 \tMean: 19.7 \tMoving Avg: 19.6\n",
      "Episode 1390 \tMean: 23.6 \tMoving Avg: 20.0\n",
      "Episode 1400 \tMean: 28.0 \tMoving Avg: 20.0\n",
      "Episode 1410 \tMean: 27.0 \tMoving Avg: 20.2\n",
      "Episode 1420 \tMean: 24.5 \tMoving Avg: 20.5\n",
      "Episode 1430 \tMean: 9.2 \tMoving Avg: 20.6\n",
      "Episode 1440 \tMean: 25.4 \tMoving Avg: 21.0\n",
      "Episode 1450 \tMean: 20.0 \tMoving Avg: 21.5\n",
      "Episode 1460 \tMean: 16.8 \tMoving Avg: 21.8\n",
      "Episode 1470 \tMean: 28.5 \tMoving Avg: 22.1\n",
      "Episode 1480 \tMean: 21.3 \tMoving Avg: 22.1\n",
      "Episode 1490 \tMean: 26.0 \tMoving Avg: 22.4\n",
      "Episode 1500 \tMean: 24.6 \tMoving Avg: 23.0\n",
      "Episode 1510 \tMean: 26.6 \tMoving Avg: 23.0\n",
      "Episode 1520 \tMean: 17.7 \tMoving Avg: 22.9\n",
      "Episode 1530 \tMean: 27.2 \tMoving Avg: 22.9\n",
      "Episode 1540 \tMean: 26.3 \tMoving Avg: 22.9\n",
      "Episode 1550 \tMean: 31.1 \tMoving Avg: 23.3\n",
      "Episode 1560 \tMean: 31.7 \tMoving Avg: 24.1\n",
      "Episode 1570 \tMean: 22.9 \tMoving Avg: 24.4\n",
      "Episode 1580 \tMean: 28.1 \tMoving Avg: 25.0\n",
      "Episode 1590 \tMean: 29.2 \tMoving Avg: 25.5\n",
      "Episode 1600 \tMean: 27.5 \tMoving Avg: 26.0\n",
      "Episode 1610 \tMean: 24.2 \tMoving Avg: 26.6\n",
      "Episode 1620 \tMean: 32.7 \tMoving Avg: 27.4\n",
      "Episode 1630 \tMean: 27.3 \tMoving Avg: 28.3\n",
      "Episode 1640 \tMean: 35.7 \tMoving Avg: 28.8\n",
      "Episode 1650 \tMean: 25.0 \tMoving Avg: 28.8\n",
      "Episode 1660 \tMean: 36.0 \tMoving Avg: 29.3\n",
      "Episode 1670 \tMean: 21.4 \tMoving Avg: 29.8\n",
      "Episode 1680 \tMean: 34.7 \tMoving Avg: 30.0\n",
      "Episode 1681\tAverage Score: 30.04\n",
      "Environment solved in 1681 episodes.\tAverage score: 30.04\n",
      "CPU times: user 4h 6min 32s, sys: 7min 25s, total: 4h 13min 58s\n",
      "Wall time: 5h 10min 50s\n"
     ]
    }
   ],
   "source": [
    "%%time\n",
    "scores, avgs = ddpg(n_episodes=2500, max_t=1200, window_size=100, print_interval=10)"
   ]
  },
  {
   "cell_type": "code",
   "execution_count": 13,
   "metadata": {},
   "outputs": [
    {
     "data": {
      "image/png": "[encoded data removed]",
      "text/plain": [
       "<Figure size 432x288 with 1 Axes>"
      ]
     },
     "metadata": {},
     "output_type": "display_data"
    }
   ],
   "source": [
    "plt.figure()\n",
    "plt.plot(np.arange(len(scores)), scores, label='DDPG')\n",
    "plt.plot(np.arange(len(scores)), avgs, c='r', label='Moving AVG')\n",
    "plt.ylabel('Score')\n",
    "plt.xlabel('Episode #')\n",
    "plt.legend(loc='upper left');\n",
    "plt.show()"
   ]
  },
  {
   "cell_type": "code",
   "execution_count": 14,
   "metadata": {},
   "outputs": [],
   "source": [
    "env.close()"
   ]
  },
  {
   "cell_type": "markdown",
   "metadata": {},
   "source": [
    "## Report \n",
    "\n",
    "#### Learning Algorithm \n",
    "Deep Deterministic Policy Gradient or commonly known as DDPG is basically an off-policy method that learns a Q-function and a policy to iterate over actions. It employs the use of off-policy data and the Bellman equation to learn the Q function which is in turn used to derive and learn the policy. (Referred from [here](https://medium.com/analytics-vidhya/demystifying-deep-deterministic-policy-gradient-ddpg-uding-chainerrl-and-openai-baselines-a087a11630cc#:~:text=Deep%20Deterministic%20Policy%20Gradient%20or,derive%20and%20learn%20the%20policy.)) \n",
    "\n",
    "DDPG (Lillicrap, et al., 2015), short for Deep Deterministic Policy Gradient, is a model-free off-policy actor-critic algorithm, combining DPG with DQN. Recall that DQN (Deep Q-Network) stabilizes the learning of Q-function by experience replay and the frozen target network. The original DQN works in discrete space, and DDPG extends it to continuous space with the actor-critic framework while learning a deterministic policy. (Referred from [here](https://lilianweng.github.io/lil-log/2018/04/08/policy-gradient-algorithms.html)) \n",
    "\n",
    "DDPG also employs Actor-Critic model in which the Critic model learns the value function like DQN and uses it to determine how the Actor’s policy based model should change. The Actor brings the advantage of learning in continuous actions space without the need for extra layer of optimization procedures required in a value based function while the Critic supplies the Actor with knowledge of the performance. (Referred from [here](https://medium.com/@kinwo/solving-continuous-control-environment-using-deep-deterministic-policy-gradient-ddpg-agent-5e94f82f366d)) \n",
    "\n",
    "![DDPG algorithm](DDPG_algo.png \"DDPG algorithm\")\n",
    "\n",
    "\n",
    "#### Model architectures\n",
    "\n",
    "The basic algorithm s an actor-critici method. Policy-based methods using Monte Carlo estimates have high variance problems. TD estimates used in value-based methods have low bias and low variance. Actor critic methods combine these two ideas, the neural network in which the actor renews his or her policies and another neural network in evaluating the policies used to train the actor.\n",
    "\n",
    "The actor network consists of three fully connected layers with batch normalization applied to the first layer. The network map specifies the behavior. Use the ReLU as an activation function except the last layer with a tanh.\n",
    "\n",
    "The Critic Network also consists of three fully connected layers with batch normalization applied to the first layer. Map a network map (state, action) pair to the Q-value. The ReLU is used as an activation feature for the first two layers, and there is no activation function for the last layer.\n",
    "\n",
    "#### Model Parameters\n",
    "\n",
    "- `state size` = 33\n",
    "- `action size` = 4\n",
    "- `number of agents` = 1\n",
    "- `max time for episode` = 1200s\n",
    "\n",
    "following parameters implemented from this [repository](https://github.com/ishgirwan/udacity_drlnd/blob/master/Continuous%20control)\n",
    "- `fc1_units` = 400 \n",
    "- `fc2_units` = 300 \n",
    "\n",
    "- `BUFFER_SIZE` = int(1e6) # replay buffer size\n",
    "- `BATCH_SIZE` = 128 # minibatch size\n",
    "- `GAMMA` = 0.99 # discount factor\n",
    "- `TAU` = 1e-3 # for soft update of target parameters\n",
    "- `LR_ACTOR` = 1e-3 # learning rate of the actor\n",
    "- `LR_CRITIC` = 1e-3 # learning rate of the critic\n",
    "- `WEIGHT_DECAY` = 0 # L2 weight decay\n",
    "\n",
    "- `LEARN_EVERY` = 20 # learning timestep interval\n",
    "- `LEARN_NUM` = 10 # number of learning passes\n",
    "- `GRAD_CLIPPING` = 1.0 # gradient clipping\n",
    "- `OU_SIGMA` = 0.2 # OU noise parameter\n",
    "- `OU_THETA` = 0.15 # OU noise parameter\n",
    "- `EPSILON` = 1.0 # for epsilon in the noise process (act step)\n",
    "- `EPSILON_DECAY` = 1e-6 # epsilon decay rate\n",
    "\n",
    "#### Idea to improve the performance \n",
    "- DDPG can be improved through priority experience regeneration.\n",
    "- Fine adjustment of the hperparameter can lead to better results and faster training times.\n",
    "- Multi-agent actor critics in mixed, collaborative competitive environments\n",
    "- The Q-prop algorithm combined with off-polycy learning and on-polycy learning can be good to try.\n",
    "- General optimization techniques such as periodic learning speed and warm restart may also be useful."
   ]
  }
 ],
 "metadata": {
  "kernelspec": {
   "display_name": "Environment (conda_pytorch_p36)",
   "language": "python",
   "name": "conda_pytorch_p36"
  },
  "language_info": {
   "codemirror_mode": {
    "name": "ipython",
    "version": 3
   },
   "file_extension": ".py",
   "mimetype": "text/x-python",
   "name": "python",
   "nbconvert_exporter": "python",
   "pygments_lexer": "ipython3",
   "version": "3.6.5"
  }
 },
 "nbformat": 4,
 "nbformat_minor": 4
}
