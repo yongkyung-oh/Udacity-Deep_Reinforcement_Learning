{
 "cells": [
  {
   "cell_type": "markdown",
   "metadata": {},
   "source": [
    "# Collaboration and Competition\n",
    "\n",
    "---\n",
    "\n",
    "You are welcome to use this coding environment to train your agent for the project.  Follow the instructions below to get started!\n",
    "\n",
    "### 1. Start the Environment\n",
    "\n",
    "Run the next code cell to install a few packages.  This line will take a few minutes to run!"
   ]
  },
  {
   "cell_type": "code",
   "execution_count": 1,
   "metadata": {},
   "outputs": [],
   "source": [
    "#!pip -q install ./python"
   ]
  },
  {
   "cell_type": "markdown",
   "metadata": {},
   "source": [
    "The environment is already saved in the Workspace and can be accessed at the file path provided below. "
   ]
  },
  {
   "cell_type": "code",
   "execution_count": 2,
   "metadata": {},
   "outputs": [
    {
     "name": "stderr",
     "output_type": "stream",
     "text": [
      "INFO:unityagents:\n",
      "'Academy' started successfully!\n",
      "Unity Academy name: Academy\n",
      "        Number of Brains: 1\n",
      "        Number of External Brains : 1\n",
      "        Lesson number : 0\n",
      "        Reset Parameters :\n",
      "\t\t\n",
      "Unity brain name: TennisBrain\n",
      "        Number of Visual Observations (per agent): 0\n",
      "        Vector Observation space type: continuous\n",
      "        Vector Observation space size (per agent): 8\n",
      "        Number of stacked Vector Observation: 3\n",
      "        Vector Action space type: continuous\n",
      "        Vector Action space size (per agent): 2\n",
      "        Vector Action descriptions: , \n"
     ]
    }
   ],
   "source": [
    "from unityagents import UnityEnvironment\n",
    "import numpy as np\n",
    "\n",
    "env = UnityEnvironment(file_name=\"Tennis_Linux_NoVis/Tennis.x86_64\")"
   ]
  },
  {
   "cell_type": "markdown",
   "metadata": {},
   "source": [
    "Environments contain **_brains_** which are responsible for deciding the actions of their associated agents. Here we check for the first brain available, and set it as the default brain we will be controlling from Python."
   ]
  },
  {
   "cell_type": "code",
   "execution_count": 3,
   "metadata": {},
   "outputs": [],
   "source": [
    "# get the default brain\n",
    "brain_name = env.brain_names[0]\n",
    "brain = env.brains[brain_name]"
   ]
  },
  {
   "cell_type": "markdown",
   "metadata": {},
   "source": [
    "### 2. Examine the State and Action Spaces\n",
    "\n",
    "Run the code cell below to print some information about the environment."
   ]
  },
  {
   "cell_type": "code",
   "execution_count": 4,
   "metadata": {},
   "outputs": [
    {
     "name": "stdout",
     "output_type": "stream",
     "text": [
      "Number of agents: 2\n",
      "Size of each action: 2\n",
      "There are 2 agents. Each observes a state with length: 24\n",
      "The state for the first agent looks like: [ 0.          0.          0.          0.          0.          0.\n",
      "  0.          0.          0.          0.          0.          0.\n",
      "  0.          0.          0.          0.         -6.65278625 -1.5\n",
      " -0.          0.          6.83172083  6.         -0.          0.        ]\n"
     ]
    }
   ],
   "source": [
    "# reset the environment\n",
    "env_info = env.reset(train_mode=True)[brain_name]\n",
    "\n",
    "# number of agents \n",
    "num_agents = len(env_info.agents)\n",
    "print('Number of agents:', num_agents)\n",
    "\n",
    "# size of each action\n",
    "action_size = brain.vector_action_space_size\n",
    "print('Size of each action:', action_size)\n",
    "\n",
    "# examine the state space \n",
    "states = env_info.vector_observations\n",
    "state_size = states.shape[1]\n",
    "print('There are {} agents. Each observes a state with length: {}'.format(states.shape[0], state_size))\n",
    "print('The state for the first agent looks like:', states[0])"
   ]
  },
  {
   "cell_type": "markdown",
   "metadata": {},
   "source": [
    "### 3. Take Random Actions in the Environment\n",
    "\n",
    "In the next code cell, you will learn how to use the Python API to control the agent and receive feedback from the environment.\n",
    "\n",
    "Note that **in this coding environment, you will not be able to watch the agents while they are training**, and you should set `train_mode=True` to restart the environment."
   ]
  },
  {
   "cell_type": "code",
   "execution_count": 5,
   "metadata": {},
   "outputs": [
    {
     "name": "stdout",
     "output_type": "stream",
     "text": [
      "Total score (averaged over agents) this episode: 0.04500000085681677\n",
      "Total score (averaged over agents) this episode: -0.004999999888241291\n",
      "Total score (averaged over agents) this episode: -0.004999999888241291\n",
      "Total score (averaged over agents) this episode: -0.004999999888241291\n",
      "Total score (averaged over agents) this episode: 0.04500000085681677\n"
     ]
    }
   ],
   "source": [
    "for i in range(5):                                         # play game for 5 episodes\n",
    "    env_info = env.reset(train_mode=False)[brain_name]     # reset the environment    \n",
    "    states = env_info.vector_observations                  # get the current state (for each agent)\n",
    "    scores = np.zeros(num_agents)                          # initialize the score (for each agent)\n",
    "    while True:\n",
    "        actions = np.random.randn(num_agents, action_size) # select an action (for each agent)\n",
    "        actions = np.clip(actions, -1, 1)                  # all actions between -1 and 1\n",
    "        env_info = env.step(actions)[brain_name]           # send all actions to tne environment\n",
    "        next_states = env_info.vector_observations         # get next state (for each agent)\n",
    "        rewards = env_info.rewards                         # get reward (for each agent)\n",
    "        dones = env_info.local_done                        # see if episode finished\n",
    "        scores += env_info.rewards                         # update the score (for each agent)\n",
    "        states = next_states                               # roll over states to next time step\n",
    "        if np.any(dones):                                  # exit loop if episode finished\n",
    "            break\n",
    "    print('Total score (averaged over agents) this episode: {}'.format(np.mean(scores)))"
   ]
  },
  {
   "cell_type": "markdown",
   "metadata": {},
   "source": [
    "When finished, you can close the environment."
   ]
  },
  {
   "cell_type": "code",
   "execution_count": 6,
   "metadata": {},
   "outputs": [],
   "source": [
    "#env.close()\n",
    "env_info = env.reset(train_mode=False)[brain_name]     # reset the environment    "
   ]
  },
  {
   "cell_type": "markdown",
   "metadata": {},
   "source": [
    "### 4. It's Your Turn!\n",
    "\n",
    "Now it's your turn to train your own agent to solve the environment!  A few **important notes**:\n",
    "- When training the environment, set `train_mode=True`, so that the line for resetting the environment looks like the following:\n",
    "```python\n",
    "env_info = env.reset(train_mode=True)[brain_name]\n",
    "```\n",
    "- To structure your work, you're welcome to work directly in this Jupyter notebook, or you might like to start over with a new file!  You can see the list of files in the workspace by clicking on **_Jupyter_** in the top left corner of the notebook.\n",
    "- In this coding environment, you will not be able to watch the agents while they are training.  However, **_after training the agents_**, you can download the saved model weights to watch the agents on your own machine! "
   ]
  },
  {
   "cell_type": "code",
   "execution_count": 7,
   "metadata": {},
   "outputs": [],
   "source": [
    "import os\n",
    "import time\n",
    "import numpy as np\n",
    "import pandas as pd \n",
    "import matplotlib.pyplot as plt\n",
    "%matplotlib inline\n",
    "\n",
    "import torch\n",
    "import torch.nn as nn\n",
    "import torch.nn.functional as F\n",
    "import torch.optim as optim\n",
    "\n",
    "from collections import deque\n",
    "from ddpg_agent import Agent"
   ]
  },
  {
   "cell_type": "code",
   "execution_count": 8,
   "metadata": {},
   "outputs": [],
   "source": [
    "seed = 0"
   ]
  },
  {
   "cell_type": "code",
   "execution_count": 9,
   "metadata": {},
   "outputs": [
    {
     "name": "stdout",
     "output_type": "stream",
     "text": [
      "Number of agents: 2\n",
      "Size of each action: 2\n",
      "There are 2 agents. Each observes a state with length: 24\n",
      "The state for the first agent looks like: [ 0.          0.          0.          0.          0.          0.\n",
      "  0.          0.          0.          0.          0.          0.\n",
      "  0.          0.          0.          0.         -7.0517621  -1.5\n",
      " -0.          0.         -7.11741829  5.97645617 -0.          0.        ]\n"
     ]
    }
   ],
   "source": [
    "# reset the environment\n",
    "env_info = env.reset(train_mode=True)[brain_name]\n",
    "\n",
    "# number of agents\n",
    "num_agents = len(env_info.agents)\n",
    "print('Number of agents:', num_agents)\n",
    "\n",
    "# size of each action\n",
    "action_size = brain.vector_action_space_size\n",
    "print('Size of each action:', action_size)\n",
    "\n",
    "# examine the state space \n",
    "states = env_info.vector_observations\n",
    "state_size = states.shape[1]\n",
    "print('There are {} agents. Each observes a state with length: {}'.format(states.shape[0], state_size))\n",
    "print('The state for the first agent looks like:', states[0])"
   ]
  },
  {
   "cell_type": "code",
   "execution_count": 10,
   "metadata": {},
   "outputs": [],
   "source": [
    "#Create Agent\n",
    "#agent = Agent(state_size=state_size, action_size=action_size, n_agents=num_agents, seed=seed)\n",
    "agent = Agent(state_size=state_size, action_size=action_size, random_seed=seed)"
   ]
  },
  {
   "cell_type": "code",
   "execution_count": 11,
   "metadata": {},
   "outputs": [],
   "source": [
    "def ddpg(num_episodes=5000, max_t=1200, windows_size=100, print_interval=100):\n",
    "    max_scores = [] # list of mean scores from each episode\n",
    "    moving_avgs = [] # list of moving averages\n",
    "    best_score = -np.inf\n",
    "    scores_window = deque(maxlen=windows_size) # mean score from last 100 episodes\n",
    "    initial_time = time.time()\n",
    "    \n",
    "    for i_episode in range(1, num_episodes + 1):\n",
    "        env_info = env.reset(train_mode=True)[brain_name] # reset environment\n",
    "        states = env_info.vector_observations # get current state for each observations\n",
    "        scores = np.zeros(num_agents) # initialize score for each agent\n",
    "        agent.reset()\n",
    "        start_time = time.time()\n",
    "        for t in range(max_t):\n",
    "            actions = agent.act(states, add_noise=True) # select an action\n",
    "            env_info = env.step(actions)[brain_name]  # send all actions to tne environment\n",
    "            next_states = env_info.vector_observations # get next state (for each agent)\n",
    "            rewards = env_info.rewards # get reward (for each agent)\n",
    "            dones = env_info.local_done # see if episode finished\n",
    "            # perform learning step\n",
    "            for state, action, reward, next_state, done in zip(states, actions, rewards, next_states, dones):\n",
    "                agent.step(state, action, reward, next_state, done, t)\n",
    "            states = next_states\n",
    "            scores += rewards\n",
    "            if np.any(dones):\n",
    "                break\n",
    "        duration = time.time() - start_time\n",
    "        max_scores.append(np.max(scores)) # save max score for each episode\n",
    "        scores_window.append(max_scores[-1]) # save max score to window\n",
    "        moving_avgs.append(np.mean(scores_window)) # save moving average\n",
    "\n",
    "        print(\"\\rEpisode {}\\tAverage Score: {:.2f}\".format(i_episode, np.mean(scores_window)), end =\"\")\n",
    "        if i_episode % windows_size == 0:\n",
    "#            print(\"\\rEpisode {} ({}s)\\tMax score: {:.3f}\\tMoving Avg: {:.3f}\"\\\n",
    "#                  .format(i_episode, round(duration), max_scores[-1], moving_avgs[-1]))\n",
    "            print(\"\\rEpisode {} \\tMax score: {:.3f} \\tMoving Avg: {:.3f}\"\\\n",
    "                  .format(i_episode, max_scores[-1], moving_avgs[-1]))\n",
    "        if moving_avgs[-1] >= 0.5:\n",
    "            print(\"\\nEnvironment solved in {:d} episodes.\\tAverage score: {:.3f}\\tTotal training time: {}s\"\\\n",
    "                 .format(i_episode, moving_avgs[-1], (time.time()-initial_time)))\n",
    "            torch.save(agent.actor_local.state_dict(), 'actor.pth')\n",
    "            torch.save(agent.critic_local.state_dict(), 'critic.pth')\n",
    "            break\n",
    "            \n",
    "    return max_scores, moving_avgs"
   ]
  },
  {
   "cell_type": "code",
   "execution_count": 12,
   "metadata": {},
   "outputs": [
    {
     "name": "stdout",
     "output_type": "stream",
     "text": [
      "Episode 100 \tMax score: 0.000 \tMoving Avg: 0.055\n",
      "Episode 200 \tMax score: 0.090 \tMoving Avg: 0.143\n",
      "Episode 300 \tMax score: 0.400 \tMoving Avg: 0.382\n",
      "Episode 319\tAverage Score: 0.51\n",
      "Environment solved in 319 episodes.\tAverage score: 0.507\tTotal training time: 5397.442065000534s\n",
      "CPU times: user 1h 27min 47s, sys: 19.1 s, total: 1h 28min 6s\n",
      "Wall time: 1h 29min 57s\n"
     ]
    }
   ],
   "source": [
    "%%time \n",
    "scores, mean_scores = ddpg(num_episodes=5000, max_t=1200, windows_size=100, print_interval=100)"
   ]
  },
  {
   "cell_type": "code",
   "execution_count": 14,
   "metadata": {},
   "outputs": [
    {
     "data": {
      "image/png": "[encoded data removed]",
      "text/plain": [
       "<Figure size 432x288 with 1 Axes>"
      ]
     },
     "metadata": {
      "needs_background": "light"
     },
     "output_type": "display_data"
    }
   ],
   "source": [
    "plt.figure()\n",
    "plt.plot(np.arange(len(scores)), scores, label='DDPG')\n",
    "plt.plot(np.arange(len(scores)), mean_scores, c='r', label='Moving AVG')\n",
    "plt.ylabel('Score')\n",
    "plt.xlabel('Episode #')\n",
    "plt.legend(loc='upper left');\n",
    "plt.show()"
   ]
  },
  {
   "cell_type": "code",
   "execution_count": 15,
   "metadata": {},
   "outputs": [],
   "source": [
    "env.close()"
   ]
  },
  {
   "cell_type": "markdown",
   "metadata": {},
   "source": [
    "## Report \n",
    "\n",
    "#### Learning Algorithm \n",
    "Deep Deterministic Policy Gradient or commonly known as DDPG is basically an off-policy method that learns a Q-function and a policy to iterate over actions. It employs the use of off-policy data and the Bellman equation to learn the Q function which is in turn used to derive and learn the policy.(Referred from [here](https://medium.com/analytics-vidhya/demystifying-deep-deterministic-policy-gradient-ddpg-uding-chainerrl-and-openai-baselines-a087a11630cc#:~:text=Deep%20Deterministic%20Policy%20Gradient%20or,derive%20and%20learn%20the%20policy.)\n",
    "\n",
    "#### Model architectures\n",
    "\n",
    "The basic algorithm s an actor-critici method. Policy-based methods using Monte Carlo estimates have high variance problems. TD estimates used in value-based methods have low bias and low variance. Actor critic methods combine these two ideas, the neural network in which the actor renews his or her policies and another neural network in evaluating the policies used to train the actor.\n",
    "\n",
    "The actor network consists of three fully connected layers with batch normalization applied to the first layer. The network map specifies the behavior. Use the ReLU as an activation function except the last layer with a tanh.\n",
    "\n",
    "The Critic Network also consists of three fully connected layers with batch normalization applied to the first layer. Map a network map (state, action) pair to the Q-value. The ReLU is used as an activation feature for the first two layers, and there is no activation function for the last layer.\n",
    "\n",
    "#### Model Parameters\n",
    "\n",
    "- `state size` = 24\n",
    "- `action size` = 2\n",
    "- `number of agents` = 2\n",
    "- `max time for episode` = 1200s\n",
    "\n",
    "following parameters implemented from this [repository](https://github.com/ishgirwan/udacity_drlnd/tree/master/Collaboration%20and%20Competition)\n",
    "- `fc1_unit` = 400\n",
    "- `fc2_unit` = 300\n",
    "\n",
    "- `BUFFER_SIZE` = int(1e6) # replay buffer size\n",
    "- `BATCH_SIZE` = 128       # minibatch size\n",
    "- `GAMMA` = 0.99           # discount factor\n",
    "- `TAU` = 1e-3             # for soft update of target parameters\n",
    "- `LR_ACTOR` = 1e-3        # learning rate of the actor\n",
    "- `LR_CRITIC` = 1e-3       # learning rate of the critic\n",
    "- `WEIGHT_DECAY` = 1e-6       # L2 weight decay\n",
    "\n",
    "- `LEARN_EVERY` = 20       # learning timestep interval\n",
    "- `LEARN_NUM` = 10            # number of learning passes\n",
    "- `GRAD_CLIPPING` = 1.0         # gradient clipping \n",
    "\n",
    "#### Idea to improve the performance \n",
    "- DDPG can be improved through priority experience regeneration.\n",
    "- Fine adjustment of the hperparameter can lead to better results and faster training times.\n",
    "- Multi-agent actor critics in mixed, collaborative competitive environments\n",
    "- The Q-prop algorithm combined with off-polycy learning and on-polycy learning can be good to try.\n",
    "- General optimization techniques such as periodic learning speed and warm restart may also be useful."
   ]
  }
 ],
 "metadata": {
  "kernelspec": {
   "display_name": "Environment (conda_pytorch_p36)",
   "language": "python",
   "name": "conda_pytorch_p36"
  },
  "language_info": {
   "codemirror_mode": {
    "name": "ipython",
    "version": 3
   },
   "file_extension": ".py",
   "mimetype": "text/x-python",
   "name": "python",
   "nbconvert_exporter": "python",
   "pygments_lexer": "ipython3",
   "version": "3.6.5"
  }
 },
 "nbformat": 4,
 "nbformat_minor": 4
}
